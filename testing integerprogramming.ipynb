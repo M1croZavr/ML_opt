{
 "cells": [
  {
   "cell_type": "code",
   "execution_count": 1,
   "metadata": {},
   "outputs": [
    {
     "name": "stdout",
     "output_type": "stream",
     "text": [
      "Requirement already satisfied: mloptima in g:\\distributiv\\anaconda\\lib\\site-packages (0.0.1)\n",
      "Requirement already satisfied: sympy in g:\\distributiv\\anaconda\\lib\\site-packages (from mloptima) (1.6.1)\n",
      "Requirement already satisfied: matplotlib in g:\\distributiv\\anaconda\\lib\\site-packages (from mloptima) (3.2.2)\n",
      "Requirement already satisfied: scikit-learn in g:\\distributiv\\anaconda\\lib\\site-packages (from mloptima) (1.1.1)\n",
      "Requirement already satisfied: numpy in g:\\distributiv\\anaconda\\lib\\site-packages (from mloptima) (1.18.5)\n",
      "Requirement already satisfied: pandas in g:\\distributiv\\anaconda\\lib\\site-packages (from mloptima) (1.0.5)\n",
      "Requirement already satisfied: scipy in g:\\distributiv\\anaconda\\lib\\site-packages (from mloptima) (1.5.0)\n",
      "Requirement already satisfied: mpmath>=0.19 in g:\\distributiv\\anaconda\\lib\\site-packages (from sympy->mloptima) (1.1.0)\n",
      "Requirement already satisfied: kiwisolver>=1.0.1 in g:\\distributiv\\anaconda\\lib\\site-packages (from matplotlib->mloptima) (1.2.0)\n",
      "Requirement already satisfied: python-dateutil>=2.1 in g:\\distributiv\\anaconda\\lib\\site-packages (from matplotlib->mloptima) (2.8.1)\n",
      "Requirement already satisfied: cycler>=0.10 in g:\\distributiv\\anaconda\\lib\\site-packages (from matplotlib->mloptima) (0.10.0)\n",
      "Requirement already satisfied: pyparsing!=2.0.4,!=2.1.2,!=2.1.6,>=2.0.1 in g:\\distributiv\\anaconda\\lib\\site-packages (from matplotlib->mloptima) (2.4.7)\n",
      "Requirement already satisfied: threadpoolctl>=2.0.0 in g:\\distributiv\\anaconda\\lib\\site-packages (from scikit-learn->mloptima) (2.1.0)\n",
      "Requirement already satisfied: joblib>=1.0.0 in g:\\distributiv\\anaconda\\lib\\site-packages (from scikit-learn->mloptima) (1.1.0)\n",
      "Requirement already satisfied: pytz>=2017.2 in g:\\distributiv\\anaconda\\lib\\site-packages (from pandas->mloptima) (2020.1)\n",
      "Requirement already satisfied: six>=1.5 in g:\\distributiv\\anaconda\\lib\\site-packages (from python-dateutil>=2.1->matplotlib->mloptima) (1.15.0)\n",
      "Note: you may need to restart the kernel to use updated packages.\n"
     ]
    }
   ],
   "source": [
    "pip install mloptima"
   ]
  },
  {
   "cell_type": "code",
   "execution_count": 2,
   "metadata": {},
   "outputs": [
    {
     "name": "stdout",
     "output_type": "stream",
     "text": [
      "Requirement already satisfied: scikit-learn==1.1.1 in g:\\distributiv\\anaconda\\lib\\site-packages (1.1.1)\n",
      "Requirement already satisfied: threadpoolctl>=2.0.0 in g:\\distributiv\\anaconda\\lib\\site-packages (from scikit-learn==1.1.1) (2.1.0)\n",
      "Requirement already satisfied: scipy>=1.3.2 in g:\\distributiv\\anaconda\\lib\\site-packages (from scikit-learn==1.1.1) (1.5.0)\n",
      "Requirement already satisfied: joblib>=1.0.0 in g:\\distributiv\\anaconda\\lib\\site-packages (from scikit-learn==1.1.1) (1.1.0)\n",
      "Requirement already satisfied: numpy>=1.17.3 in g:\\distributiv\\anaconda\\lib\\site-packages (from scikit-learn==1.1.1) (1.18.5)\n",
      "Note: you may need to restart the kernel to use updated packages.\n"
     ]
    }
   ],
   "source": [
    "pip install scikit-learn==1.1.1"
   ]
  },
  {
   "cell_type": "code",
   "execution_count": 3,
   "metadata": {},
   "outputs": [],
   "source": [
    "import coreml\n",
    "import numpy as np\n",
    "from coreml.integerprogramming import optimize"
   ]
  },
  {
   "cell_type": "markdown",
   "metadata": {},
   "source": [
    "## Метод Гомори"
   ]
  },
  {
   "cell_type": "code",
   "execution_count": 3,
   "metadata": {},
   "outputs": [],
   "source": [
    "def inputData():\n",
    "      nX=int(input('Enter number of variables'))\n",
    "      nY=int(input('Enter number of restrictions'))\n",
    "      A = []\n",
    "      for i in range(nY): \n",
    "        z=[int(j) for j in np.zeros(nY)]\n",
    "        z[i]=1\n",
    "        A.append(list(map(int, input('Enter coefficients of constraint variables by lines').split()))+z)\n",
    "      A=np.array(A)\n",
    "      B = np.array([int(i) for i in input('Enter free members of restrictions:').split()])\n",
    "      C = np.array([int(i) for i in input('Enter coefficients of objective function (Without multiplying by -1):').split()]+[int(i) for i in np.zeros(nY)])\n",
    "      basis = np.array([i for i in input('Enter basis variables names in right order:').split()])\n",
    "      variables = np.array([i for i in input('Enter all variables names in right order:').split()])\n",
    "      target_vars = set(np.array([i for i in input('Enter Names of needed variables:').split()]))\n",
    "      extrema =str(input('Which extrema to find?(\"max\";\"min\"):'))\n",
    "      return A,B,C,basis,variables,target_vars,extrema"
   ]
  },
  {
   "cell_type": "code",
   "execution_count": 4,
   "metadata": {},
   "outputs": [
    {
     "name": "stdout",
     "output_type": "stream",
     "text": [
      "Enter number of variables3\n",
      "Enter number of restrictions3\n",
      "Enter coefficients of constraint variables by lines5 1 4\n",
      "Enter coefficients of constraint variables by lines3 0 2\n",
      "Enter coefficients of constraint variables by lines1 0 -3\n",
      "Enter free members of restrictions:7 4 3\n",
      "Enter coefficients of objective function (Without multiplying by -1):11 5 4\n",
      "Enter basis variables names in right order:y1 y2 y3\n",
      "Enter all variables names in right order:x1 x2 x3 y1 y2 y3\n",
      "Enter Names of needed variables:x1 x2 x3\n",
      "Which extrema to find?(\"max\";\"min\"):max\n"
     ]
    }
   ],
   "source": [
    "A,B,C,basis,variables,target_vars,extrema=inputData()"
   ]
  },
  {
   "cell_type": "code",
   "execution_count": 5,
   "metadata": {},
   "outputs": [
    {
     "name": "stdout",
     "output_type": "stream",
     "text": [
      "All coefficients in string Z are >= 0\n",
      "[[ 5.  1.  4.  1.  0.  0.  7.]\n",
      " [ 3.  0.  2.  0.  1.  0.  4.]\n",
      " [ 1.  0. -3.  0.  0.  1.  3.]\n",
      " [14.  0. 16.  5.  0.  0. 35.]] ['x2' 'y2' 'y3']\n",
      "F(X) = -35.0, X: x2=7.0\n"
     ]
    },
    {
     "name": "stderr",
     "output_type": "stream",
     "text": [
      "/Users/leotemirov/Downloads/ML_opt-master-6/coreml/integerprogramming/optimize.py:53: RuntimeWarning: divide by zero encountered in true_divide\n",
      "  b_div_lead_col = M[:, -1][: len(basis)] / leading_column[: len(basis)]\n"
     ]
    },
    {
     "data": {
      "text/plain": [
       "(array([[ 5.,  1.,  4.,  1.,  0.,  0.,  7.],\n",
       "        [ 3.,  0.,  2.,  0.,  1.,  0.,  4.],\n",
       "        [ 1.,  0., -3.,  0.,  0.,  1.,  3.],\n",
       "        [14.,  0., 16.,  5.,  0.,  0., 35.]]),\n",
       " array(['x2', 'y2', 'y3'], dtype='<U2'),\n",
       " array(['x1', 'x2', 'x3', 'y1', 'y2', 'y3'], dtype='<U2'))"
      ]
     },
     "execution_count": 5,
     "metadata": {},
     "output_type": "execute_result"
    }
   ],
   "source": [
    "optimize.gomori_method(A=A, B=B, C=C, basis=basis, variables=variables, \n",
    "                       target_vars=target_vars, extrema=extrema)"
   ]
  },
  {
   "cell_type": "code",
   "execution_count": 6,
   "metadata": {},
   "outputs": [
    {
     "name": "stdout",
     "output_type": "stream",
     "text": [
      "Enter number of variables3\n",
      "Enter number of restrictions3\n",
      "Enter coefficients of constraint variables by lines3 2 8\n",
      "Enter coefficients of constraint variables by lines2 0 1\n",
      "Enter coefficients of constraint variables by lines3 3 1\n",
      "Enter free members of restrictions:11 5 13\n",
      "Enter coefficients of objective function (Without multiplying by -1):11 5 4\n",
      "Enter basis variables names in right order:y1 y2 y3\n",
      "Enter all variables names in right order:x1 x2 x3 y1 y2 y3\n",
      "Enter Names of needed variables:x1 x2 x3\n",
      "Which extrema to find?(\"max\";\"min\"):max\n",
      "All coefficients in string Z are >= 0\n",
      "[[  0.     1.     3.25   0.5   -0.75   0.     1.75]\n",
      " [  1.     0.     0.5    0.     0.5    0.     2.5 ]\n",
      " [  0.     0.   -10.25  -1.5    0.75   1.     0.25]\n",
      " [  0.     0.    17.75   2.5    1.75   0.    36.25]] ['x2' 'x1' 'y3']\n",
      "F(X) = -17.0, X: x2=-8.0  x1=1.0  x3=3.0\n"
     ]
    },
    {
     "data": {
      "text/plain": [
       "(array([[  0.,   1.,   0.,  -6.,  -4.,   0.,  13.,  -8.],\n",
       "        [  1.,   0.,   0.,  -1.,   0.,   0.,   2.,   1.],\n",
       "        [  0.,   0.,   0.,  19.,  11.,   1., -41.,  31.],\n",
       "        [  0.,   0.,   1.,   2.,   1.,   0.,  -4.,   3.],\n",
       "        [  0.,   0.,   0.,  33.,  16.,   0., -71.,  17.]]),\n",
       " array(['x2', 'x1', 'y3', 'x3'], dtype='<U2'),\n",
       " array(['x1', 'x2', 'x3', 'y1', 'y2', 'y3', 't1'], dtype='<U2'))"
      ]
     },
     "execution_count": 6,
     "metadata": {},
     "output_type": "execute_result"
    }
   ],
   "source": [
    "A,B,C,basis,variables,target_vars,extrema=inputData()\n",
    "optimize.gomori_method(A=A, B=B, C=C, basis=basis, variables=variables, \n",
    "                       target_vars=target_vars, extrema=extrema)"
   ]
  },
  {
   "cell_type": "markdown",
   "metadata": {},
   "source": [
    "## Симплекс метод"
   ]
  },
  {
   "cell_type": "code",
   "execution_count": 7,
   "metadata": {},
   "outputs": [
    {
     "name": "stdout",
     "output_type": "stream",
     "text": [
      "Enter number of variables3\n",
      "Enter number of restrictions3\n",
      "Enter coefficients of constraint variables by lines3 2 8\n",
      "Enter coefficients of constraint variables by lines2 0 1\n",
      "Enter coefficients of constraint variables by lines3 3 1\n",
      "Enter free members of restrictions:11 5 13\n",
      "Enter coefficients of objective function (Without multiplying by -1):11 5 4\n",
      "Enter basis variables names in right order:y1 y2 y3\n",
      "Enter all variables names in right order:x1 x2 x3 y1 y2 y3\n",
      "Enter Names of needed variables:x1 x2 x3\n",
      "Which extrema to find?(\"max\";\"min\"):max\n"
     ]
    }
   ],
   "source": [
    "A,B,C,basis,variables,target_vars,extrema=inputData()"
   ]
  },
  {
   "cell_type": "code",
   "execution_count": 9,
   "metadata": {},
   "outputs": [
    {
     "name": "stdout",
     "output_type": "stream",
     "text": [
      "All coefficients in string Z are >= 0\n",
      "[[  0.     1.     3.25   0.5   -0.75   0.     1.75]\n",
      " [  1.     0.     0.5    0.     0.5    0.     2.5 ]\n",
      " [  0.     0.   -10.25  -1.5    0.75   1.     0.25]\n",
      " [  0.     0.    17.75   2.5    1.75   0.    36.25]] ['x2' 'x1' 'y3']\n"
     ]
    },
    {
     "data": {
      "text/plain": [
       "(array([[  0.  ,   1.  ,   3.25,   0.5 ,  -0.75,   0.  ,   1.75],\n",
       "        [  1.  ,   0.  ,   0.5 ,   0.  ,   0.5 ,   0.  ,   2.5 ],\n",
       "        [  0.  ,   0.  , -10.25,  -1.5 ,   0.75,   1.  ,   0.25],\n",
       "        [  0.  ,   0.  ,  17.75,   2.5 ,   1.75,   0.  ,  36.25]]),\n",
       " array(['x2', 'x1', 'y3'], dtype='<U2'),\n",
       " array(['x1', 'x2', 'x3', 'y1', 'y2', 'y3'], dtype='<U2'))"
      ]
     },
     "execution_count": 9,
     "metadata": {},
     "output_type": "execute_result"
    }
   ],
   "source": [
    "optimize.make_simplex(A=A, B=B, C=C, basis=basis, variables=variables,  extrema=extrema)"
   ]
  },
  {
   "cell_type": "code",
   "execution_count": 10,
   "metadata": {},
   "outputs": [
    {
     "name": "stdout",
     "output_type": "stream",
     "text": [
      "Enter number of variables3\n",
      "Enter number of restrictions3\n",
      "Enter coefficients of constraint variables by lines5 1 4 \n",
      "Enter coefficients of constraint variables by lines3 0 2\n",
      "Enter coefficients of constraint variables by lines1 0 -3\n",
      "Enter free members of restrictions:7 4 3\n",
      "Enter coefficients of objective function (Without multiplying by -1):11 5 4\n",
      "Enter basis variables names in right order:y1 y2 y3\n",
      "Enter all variables names in right order:x1 x2 x3 y1 y2 y3\n",
      "Enter Names of needed variables:x1 x2 x3\n",
      "Which extrema to find?(\"max\";\"min\"):max\n"
     ]
    }
   ],
   "source": [
    "A,B,C,basis,variables,target_vars,extrema=inputData()"
   ]
  },
  {
   "cell_type": "code",
   "execution_count": 11,
   "metadata": {},
   "outputs": [
    {
     "name": "stdout",
     "output_type": "stream",
     "text": [
      "All coefficients in string Z are >= 0\n",
      "[[ 5.  1.  4.  1.  0.  0.  7.]\n",
      " [ 3.  0.  2.  0.  1.  0.  4.]\n",
      " [ 1.  0. -3.  0.  0.  1.  3.]\n",
      " [14.  0. 16.  5.  0.  0. 35.]] ['x2' 'y2' 'y3']\n"
     ]
    },
    {
     "data": {
      "text/plain": [
       "(array([[ 5.,  1.,  4.,  1.,  0.,  0.,  7.],\n",
       "        [ 3.,  0.,  2.,  0.,  1.,  0.,  4.],\n",
       "        [ 1.,  0., -3.,  0.,  0.,  1.,  3.],\n",
       "        [14.,  0., 16.,  5.,  0.,  0., 35.]]),\n",
       " array(['x2', 'y2', 'y3'], dtype='<U2'),\n",
       " array(['x1', 'x2', 'x3', 'y1', 'y2', 'y3'], dtype='<U2'))"
      ]
     },
     "execution_count": 11,
     "metadata": {},
     "output_type": "execute_result"
    }
   ],
   "source": [
    "optimize.make_simplex(A=A, B=B, C=C, basis=basis, variables=variables,  extrema=extrema)"
   ]
  },
  {
   "cell_type": "markdown",
   "metadata": {},
   "source": [
    "### Вывод"
   ]
  },
  {
   "cell_type": "markdown",
   "metadata": {},
   "source": [
    "Протестировав реализацию данных методов, можно выявить их главный минус: нельзя указать неотрицательность, из-за этого можно только проверять примеры, которые действуют на всю плоскость, также было бы замечательно, если сделать функцию для удобного ввода. В остальном все работает быстро и корректно."
   ]
  }
 ],
 "metadata": {
  "kernelspec": {
   "display_name": "Python 3",
   "language": "python",
   "name": "python3"
  },
  "language_info": {
   "codemirror_mode": {
    "name": "ipython",
    "version": 3
   },
   "file_extension": ".py",
   "mimetype": "text/x-python",
   "name": "python",
   "nbconvert_exporter": "python",
   "pygments_lexer": "ipython3",
   "version": "3.8.3"
  }
 },
 "nbformat": 4,
 "nbformat_minor": 5
}
