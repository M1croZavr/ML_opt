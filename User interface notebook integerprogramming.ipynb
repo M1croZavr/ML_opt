{
 "cells": [
  {
   "cell_type": "code",
   "execution_count": 1,
   "metadata": {},
   "outputs": [
    {
     "name": "stdout",
     "output_type": "stream",
     "text": [
      "Requirement already satisfied: mloptima in g:\\distributiv\\anaconda\\lib\\site-packages (0.0.1)\n",
      "Requirement already satisfied: matplotlib in g:\\distributiv\\anaconda\\lib\\site-packages (from mloptima) (3.2.2)\n",
      "Requirement already satisfied: pandas in g:\\distributiv\\anaconda\\lib\\site-packages (from mloptima) (1.0.5)\n",
      "Requirement already satisfied: scipy in g:\\distributiv\\anaconda\\lib\\site-packages (from mloptima) (1.5.0)\n",
      "Requirement already satisfied: scikit-learn in g:\\distributiv\\anaconda\\lib\\site-packages (from mloptima) (1.1.1)\n",
      "Requirement already satisfied: sympy in g:\\distributiv\\anaconda\\lib\\site-packages (from mloptima) (1.6.1)\n",
      "Requirement already satisfied: numpy in g:\\distributiv\\anaconda\\lib\\site-packages (from mloptima) (1.18.5)\n",
      "Requirement already satisfied: python-dateutil>=2.1 in g:\\distributiv\\anaconda\\lib\\site-packages (from matplotlib->mloptima) (2.8.1)\n",
      "Requirement already satisfied: pyparsing!=2.0.4,!=2.1.2,!=2.1.6,>=2.0.1 in g:\\distributiv\\anaconda\\lib\\site-packages (from matplotlib->mloptima) (2.4.7)\n",
      "Requirement already satisfied: cycler>=0.10 in g:\\distributiv\\anaconda\\lib\\site-packages (from matplotlib->mloptima) (0.10.0)\n",
      "Requirement already satisfied: kiwisolver>=1.0.1 in g:\\distributiv\\anaconda\\lib\\site-packages (from matplotlib->mloptima) (1.2.0)\n",
      "Requirement already satisfied: pytz>=2017.2 in g:\\distributiv\\anaconda\\lib\\site-packages (from pandas->mloptima) (2020.1)\n",
      "Requirement already satisfied: threadpoolctl>=2.0.0 in g:\\distributiv\\anaconda\\lib\\site-packages (from scikit-learn->mloptima) (2.1.0)\n",
      "Requirement already satisfied: joblib>=1.0.0 in g:\\distributiv\\anaconda\\lib\\site-packages (from scikit-learn->mloptima) (1.1.0)\n",
      "Requirement already satisfied: mpmath>=0.19 in g:\\distributiv\\anaconda\\lib\\site-packages (from sympy->mloptima) (1.1.0)\n",
      "Requirement already satisfied: six>=1.5 in g:\\distributiv\\anaconda\\lib\\site-packages (from python-dateutil>=2.1->matplotlib->mloptima) (1.15.0)Note: you may need to restart the kernel to use updated packages.\n",
      "\n"
     ]
    }
   ],
   "source": [
    "pip install mloptima"
   ]
  },
  {
   "cell_type": "code",
   "execution_count": 2,
   "metadata": {},
   "outputs": [
    {
     "name": "stdout",
     "output_type": "stream",
     "text": [
      "Requirement already satisfied: scikit-learn==1.1.1 in g:\\distributiv\\anaconda\\lib\\site-packages (1.1.1)\n",
      "Requirement already satisfied: threadpoolctl>=2.0.0 in g:\\distributiv\\anaconda\\lib\\site-packages (from scikit-learn==1.1.1) (2.1.0)\n",
      "Requirement already satisfied: scipy>=1.3.2 in g:\\distributiv\\anaconda\\lib\\site-packages (from scikit-learn==1.1.1) (1.5.0)\n",
      "Requirement already satisfied: numpy>=1.17.3 in g:\\distributiv\\anaconda\\lib\\site-packages (from scikit-learn==1.1.1) (1.18.5)\n",
      "Requirement already satisfied: joblib>=1.0.0 in g:\\distributiv\\anaconda\\lib\\site-packages (from scikit-learn==1.1.1) (1.1.0)\n",
      "Note: you may need to restart the kernel to use updated packages.\n"
     ]
    }
   ],
   "source": [
    "pip install scikit-learn==1.1.1"
   ]
  },
  {
   "cell_type": "code",
   "execution_count": 8,
   "metadata": {},
   "outputs": [],
   "source": [
    "import coreml\n",
    "import numpy as np"
   ]
  },
  {
   "cell_type": "code",
   "execution_count": 5,
   "metadata": {},
   "outputs": [],
   "source": [
    "from coreml.integerprogramming import optimize"
   ]
  },
  {
   "cell_type": "code",
   "execution_count": 9,
   "metadata": {},
   "outputs": [],
   "source": [
    "# Метод Гомори\n",
    "\n",
    "def inputData():\n",
    "  nX=int(input('Enter number of variables'))\n",
    "  nY=int(input('Enter number of restrictions'))\n",
    "  A = []\n",
    "  for i in range(nY): \n",
    "    z=[int(j) for j in np.zeros(nY)]\n",
    "    z[i]=1\n",
    "    A.append(list(map(int, input('Enter coefficients of constraint variables by lines').split()))+z)\n",
    "  A=np.array(A)\n",
    "  B = np.array([int(i) for i in input('Enter free members of restrictions:').split()])\n",
    "  C = np.array([int(i) for i in input('Enter coefficients of objective function (Without multiplying by -1):').split()]+[int(i) for i in np.zeros(nY)])\n",
    "  basis = np.array([i for i in input('Enter basis variables names in right order:').split()])\n",
    "  variables = np.array([i for i in input('Enter all variables names in right order:').split()])\n",
    "  target_vars = set(np.array([i for i in input('Enter Names of needed variables:').split()]))\n",
    "  extrema =str(input('Which extrema to find?(\"max\";\"min\"):'))\n",
    "  return A,B,C,basis,variables,target_vars,extrema"
   ]
  },
  {
   "cell_type": "markdown",
   "metadata": {},
   "source": [
    "Пример:"
   ]
  },
  {
   "attachments": {
    "image.png": {
     "image/png": "[encoded data removed]"
    }
   },
   "cell_type": "markdown",
   "metadata": {},
   "source": [
    "![image.png](attachment:image.png)"
   ]
  },
  {
   "attachments": {
    "image.png": {
     "image/png": "[encoded data removed]"
    }
   },
   "cell_type": "markdown",
   "metadata": {},
   "source": [
    "![image.png](attachment:image.png)"
   ]
  },
  {
   "cell_type": "code",
   "execution_count": 10,
   "metadata": {},
   "outputs": [
    {
     "name": "stdout",
     "output_type": "stream",
     "text": [
      "Enter number of variables3\n",
      "Enter number of restrictions3\n",
      "Enter coefficients of constraint variables by lines1 2 3\n",
      "Enter coefficients of constraint variables by lines4 3 2\n",
      "Enter coefficients of constraint variables by lines3 1 1\n",
      "Enter free members of restrictions:35 45 40\n",
      "Enter coefficients of objective function (Without multiplying by -1):4 5 6\n",
      "Enter basis variables names in right order:y1 y2 y3\n",
      "Enter all variables names in right order:x1 x2 x3 y1 y2 y3\n",
      "Enter Names of needed variables:x1 x2 x3\n",
      "Which extrema to find?(\"max\";\"min\"):max\n",
      "[[1 2 3 1 0 0]\n",
      " [4 3 2 0 1 0]\n",
      " [3 1 1 0 0 1]] [35 45 40] [4 5 6 0 0 0] ['y1' 'y2' 'y3'] ['x1' 'x2' 'x3' 'y1' 'y2' 'y3'] {'x2', 'x3', 'x1'} max\n"
     ]
    }
   ],
   "source": [
    "A,B,C,basis,variables,target_vars,extrema=inputData()\n",
    "print(A,B,C,basis,variables,target_vars,extrema)"
   ]
  },
  {
   "cell_type": "code",
   "execution_count": 11,
   "metadata": {},
   "outputs": [
    {
     "name": "stdout",
     "output_type": "stream",
     "text": [
      "All coefficients in string Z are >= 0\n",
      "[[ 0.   0.5  1.   0.4 -0.1  0.   9.5]\n",
      " [ 1.   0.5  0.  -0.2  0.3  0.   6.5]\n",
      " [ 0.  -1.   0.   0.2 -0.8  1.  11. ]\n",
      " [ 0.   0.   0.   1.6  0.6  0.  83. ]] ['x3' 'x1' 'y3']\n",
      "F(X) = 83.0, X: x3=9.0  x1=6.0  x2=1.0\n"
     ]
    },
    {
     "data": {
      "text/plain": [
       "(array([[  0. ,   0. ,   1. ,   0. ,  -1. ,   0. ,   1. ,   9. ],\n",
       "        [  1. ,   0. ,   0. ,  -0.6,  -0.6,   0. ,   1. ,   6. ],\n",
       "        [  0. ,   0. ,   0. ,   1. ,   1. ,   1. ,  -2. ,  12. ],\n",
       "        [  0. ,   1. ,   0. ,   0.8,   1.8,   0. ,  -2. ,   1. ],\n",
       "        [  0. ,   0. ,   0. ,  -1.6,  -0.6,   0. ,  -0. , -83. ]]),\n",
       " array(['x3', 'x1', 'y3', 'x2'], dtype='<U2'),\n",
       " array(['x1', 'x2', 'x3', 'y1', 'y2', 'y3', 't1'], dtype='<U2'))"
      ]
     },
     "execution_count": 11,
     "metadata": {},
     "output_type": "execute_result"
    }
   ],
   "source": [
    "optimize.gomori_method(A, B, C, basis, variables, target_vars=target_vars,extrema=extrema)"
   ]
  },
  {
   "cell_type": "code",
   "execution_count": null,
   "metadata": {},
   "outputs": [],
   "source": []
  }
 ],
 "metadata": {
  "kernelspec": {
   "display_name": "Python 3",
   "language": "python",
   "name": "python3"
  },
  "language_info": {
   "codemirror_mode": {
    "name": "ipython",
    "version": 3
   },
   "file_extension": ".py",
   "mimetype": "text/x-python",
   "name": "python",
   "nbconvert_exporter": "python",
   "pygments_lexer": "ipython3",
   "version": "3.8.3"
  }
 },
 "nbformat": 4,
 "nbformat_minor": 4
}
