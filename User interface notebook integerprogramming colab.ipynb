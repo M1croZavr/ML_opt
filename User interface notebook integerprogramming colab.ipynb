{
  "cells": [
    {
      "cell_type": "code",
      "source": [
        "!git clone https://github.com/M1croZavr/ML_opt.git"
      ],
      "metadata": {
        "colab": {
          "base_uri": "https://localhost:8080/"
        },
        "id": "QIzgLpwQtrFX",
        "outputId": "7a58b192-980f-4351-aafe-ab48110dd5eb"
      },
      "id": "QIzgLpwQtrFX",
      "execution_count": 6,
      "outputs": [
        {
          "output_type": "stream",
          "name": "stdout",
          "text": [
            "Cloning into 'ML_opt'...\n",
            "remote: Enumerating objects: 539, done.\u001b[K\n",
            "remote: Counting objects: 100% (116/116), done.\u001b[K\n",
            "remote: Compressing objects: 100% (94/94), done.\u001b[K\n",
            "remote: Total 539 (delta 50), reused 53 (delta 20), pack-reused 423\u001b[K\n",
            "Receiving objects: 100% (539/539), 25.50 MiB | 27.29 MiB/s, done.\n",
            "Resolving deltas: 100% (253/253), done.\n"
          ]
        }
      ]
    },
    {
      "cell_type": "code",
      "source": [
        "cd ML_opt/"
      ],
      "metadata": {
        "colab": {
          "base_uri": "https://localhost:8080/"
        },
        "id": "JNCc4OJPtsIs",
        "outputId": "009870f6-7bdf-4c65-9fb2-f2cb2431984c"
      },
      "id": "JNCc4OJPtsIs",
      "execution_count": 7,
      "outputs": [
        {
          "output_type": "stream",
          "name": "stdout",
          "text": [
            "/content/ML_opt/ML_opt/ML_opt\n"
          ]
        }
      ]
    },
    {
      "cell_type": "code",
      "execution_count": 8,
      "id": "cd182fd8",
      "metadata": {
        "id": "cd182fd8"
      },
      "outputs": [],
      "source": [
        "import numpy as np\n",
        "from integerprogramming import optimize"
      ]
    },
    {
      "cell_type": "markdown",
      "source": [
        "# Метод Гомори"
      ],
      "metadata": {
        "id": "5gds0reaGhar"
      },
      "id": "5gds0reaGhar"
    },
    {
      "cell_type": "code",
      "source": [
        "def inputData():\n",
        "  nX=int(input('Enter number of variables'))\n",
        "  nY=int(input('Enter number of restrictions'))\n",
        "  A = []\n",
        "  for i in range(nY): \n",
        "    z=[int(j) for j in np.zeros(nY)]\n",
        "    z[i]=1\n",
        "    A.append(list(map(int, input('Enter coefficients of constraint variables by lines').split()))+z)\n",
        "  A=np.array(A)\n",
        "  B = np.array([int(i) for i in input('Enter free members of restrictions:').split()])\n",
        "  C = np.array([int(i) for i in input('Enter coefficients of objective function (Without multiplying by -1):').split()]+[int(i) for i in np.zeros(nY)])\n",
        "  basis = np.array([i for i in input('Enter basis variables names in right order:').split()])\n",
        "  variables = np.array([i for i in input('Enter all variables names in right order:').split()])\n",
        "  target_vars = set(np.array([i for i in input('Enter Names of needed variables:').split()]))\n",
        "  extrema =str(input('Which extrema to find?(\"max\";\"min\"):'))\n",
        "  return A,B,C,basis,variables,target_vars,extrema"
      ],
      "metadata": {
        "id": "T4bJ5cEP7Xjz"
      },
      "id": "T4bJ5cEP7Xjz",
      "execution_count": 81,
      "outputs": []
    },
    {
      "cell_type": "markdown",
      "source": [
        "Example:"
      ],
      "metadata": {
        "id": "8DH4AyaC7Uum"
      },
      "id": "8DH4AyaC7Uum"
    },
    {
      "cell_type": "markdown",
      "source": [
        "![image.png](data:image/png;base64,iVBORw0KGgoAAAANSUhEUgAAAIAAAAAkCAYAAABBszIzAAAFjklEQVR4nO2bv2vbWhTHPy3vDzAYMvSVRw1dawLSUOLyhhAIhFJDpzc4blGTMbb3xoHaWTLZ1trU0NTDgy6RKYGUNkOpO8kk8VwsKLSQEBNv7XbfYNmxpCsncZKWV+kDguj+OOfcq6/uuVcm14QQgpDAcv1XBxDyawkFEHBCAQScUAABJxRAwAkFEHBCAQScUAABJxRAwAkFEHBCAQScUAABJxRAwPERQIuyqqLKroxBZ7ilrpKtd2CvjKrafzvoYGRO+rV0lfLeFY0G6NSznhivBHu8w5d37Ffr81L8CSn7oqRkxOaBvHbAbkkolX3nvavffkURytKmOHLYLomhXpfHwabIKG5/V8N+RRGl3St2Mow9thOf+6KkXDyG6+NrqINRtcj/Ez8pmsxRTTcozpVpAeyV0TYS5JeTRAeN4syvWGh6a3zV+sWzukMsnXCUtnQVVbXj6ZVQPvPb06KsZjEOvb6szwliN/z6qKjD49sro0rtSDg0yDrita3+W6SRrpKb7JfEyZlm7/7QIOsaU6eedY1bzvh7gL1XFJnm3oSzOJ6pkqLGC71MdqFGar1C0tUmeneaxMaONLhe4LL0M3oCO/UCOzMrzN9yx7NNfqrGC3tyWrpGLV2l8iAqsXJWvmIBO3Oy5ThObitPYuOFHW+Lss88nJ0WOxuQ+jsur55IUllP0Si86s3poUGhAPmtHD49BvzhX9WgOKdSdJSlqJo9o50vFtyexjuNcXLrKdSFGqSrVCY9DWAiRowiO3s54q766IMK5oNTovbQ4lUhxhMzCnV3XZSklqK4UMAgRnEjRdU8bVpO4dDC+tQgtm7a42tRVmfJst0T1kSSJ+ki2qoBt4vU0lVM2TyciwSxGy3KqkbNLkmtmycrwuQ8+alZND1G/nMRVrbPJjh5rjx9D7BfUUTG8OldUYSiKELxzfVHYnPJv/95Gc7HR0ZGugfoxyTLmcfHxyKTyYh2uz2IrRe/+xqxd9ktuep7Odrdp9lsDuzdv3/f9tlvK7mWNsWRzJZnTyB890DDPp8+fSq+f/8+qBszBXSwPvtU9fP+Vm/plef6KLHbPpbPmwL2ymgM58bRWF+cud+yLObn52m324PYkrqJaZqYZpUUCfJb/fsRS+qNGAlphYVlx93tdnn58iWvX7/GNE0WFxd59uwZ3e5f5Ezbx1aeBCmq/Xu9v39KOJf0iSRP0lD7IJnfTxZf8fr8+PEjAG/fvh00HZECRuHzAA8Nsgs1EivbJCeisJxnZ04je2vblXNtAd3ymjhvCmh9qMFGDXVjuLTBrGoN0lVPlCmq66AtFDDu9vJxt9vlzZs3rK2tsba2dmafnXqW2XfTbOtDm9tvFo2pGCv9uOy9RhUNbdXgnp4kGolQqVQGdu7cucP79+/P4PFPYlMNrG+A77LewVgtwkqV/DsNTZ/GzMSJDPn88eMHADdv3jzpNm4KODIyziNgf+ms7HvbeWxdzhHGNy7PsfPEl/dYKkS73RbpdNpejt1xSubhtCOZIx306mTpzjAMoeu6xLYk1bhTjCsGx7gl6aGfBtwpYGwBiN3S0ET286YsR0rq/AZ5CTgFYPuWCGL4gfgLYAT9fGtfA3t2ueOBS76PNJtNz8M4ld2SY3/gFJzzgfdePO8cG4bh8OvzIegs9CZ3nLf4yMhc2gbwMhhLABdA+ub/JJrNpnj06JE4Pj4WQoy9CYT+8Uq6CRmJfWS70Dn8/0u93junLi0t/RR/3W6X5eVlut0uAI1GA0VRiEQiwEV/DJrMUUU71zfplq7B+ukfKH5HLMvi+fPnFAqFwenm8ePHg4dzFUQiER4+fMjMzAyqqnJwcMDi4uKg/poQ4b+GBZnw5+CAEwog4IQCCDihAAJOKICAEwog4IQCCDihAALOf4pJsNu5V+/pAAAAAElFTkSuQmCC)"
      ],
      "metadata": {
        "id": "u414baal7iYZ"
      },
      "id": "u414baal7iYZ"
    },
    {
      "cell_type": "markdown",
      "source": [
        "![image.png](data:image/png;base64,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)"
      ],
      "metadata": {
        "id": "hjGg_kOP7f79"
      },
      "id": "hjGg_kOP7f79"
    },
    {
      "cell_type": "code",
      "source": [
        "A,B,C,basis,variables,target_vars,extrema=inputData()\n",
        "print(A,B,C,basis,variables,target_vars,extrema)"
      ],
      "metadata": {
        "colab": {
          "base_uri": "https://localhost:8080/"
        },
        "id": "vK8LR-6_PK8t",
        "outputId": "70df54b4-768c-49e7-a457-c0a169ff2ebb"
      },
      "id": "vK8LR-6_PK8t",
      "execution_count": 82,
      "outputs": [
        {
          "output_type": "stream",
          "name": "stdout",
          "text": [
            "Enter number of variables3\n",
            "Enter number of restrictions3\n",
            "Enter coefficients of constraint variables by lines1 2 3\n",
            "Enter coefficients of constraint variables by lines4 3 2\n",
            "Enter coefficients of constraint variables by lines3 1 1\n",
            "Enter free members of restrictions:35 45 40\n",
            "Enter coefficients of objective function (Without multiplying by -1):4 5 6\n",
            "Enter basis variables names in right order:y1 y2 y3\n",
            "Enter all variables names in right order:x1 x2 x3 y1 y2 y3\n",
            "Enter Names of needed variables:x1 x2 x3\n",
            "Which extrema to find?(\"max\";\"min\"):max\n",
            "[[1 2 3 1 0 0]\n",
            " [4 3 2 0 1 0]\n",
            " [3 1 1 0 0 1]] [35 45 40] [4 5 6 0 0 0] ['y1' 'y2' 'y3'] ['x1' 'x2' 'x3' 'y1' 'y2' 'y3'] {'x2', 'x3', 'x1'} max\n"
          ]
        }
      ]
    },
    {
      "cell_type": "code",
      "source": [
        "optimize.gomori_method(A, B, C, basis, variables, target_vars=target_vars,extrema=extrema)"
      ],
      "metadata": {
        "colab": {
          "base_uri": "https://localhost:8080/"
        },
        "id": "0GZjMI_BF-ru",
        "outputId": "179bacea-687b-4bc7-bd36-cf008aecb55c"
      },
      "id": "0GZjMI_BF-ru",
      "execution_count": 83,
      "outputs": [
        {
          "output_type": "stream",
          "name": "stdout",
          "text": [
            "All coefficients in string Z are >= 0\n",
            "F(X) = 83.0, X: x3=9.0  x1=6.0  x2=1.0\n"
          ]
        },
        {
          "output_type": "execute_result",
          "data": {
            "text/plain": [
              "(array([[  0. ,   0. ,   1. ,   0. ,  -1. ,   0. ,   1. ,   9. ],\n",
              "        [  1. ,   0. ,   0. ,  -0.6,  -0.6,   0. ,   1. ,   6. ],\n",
              "        [  0. ,   0. ,   0. ,   1. ,   1. ,   1. ,  -2. ,  12. ],\n",
              "        [  0. ,   1. ,   0. ,   0.8,   1.8,   0. ,  -2. ,   1. ],\n",
              "        [  0. ,   0. ,   0. ,  -1.6,  -0.6,   0. ,  -0. , -83. ]]),\n",
              " array(['x3', 'x1', 'y3', 'x2'], dtype='<U2'),\n",
              " array(['x1', 'x2', 'x3', 'y1', 'y2', 'y3', 't1'], dtype='<U2'))"
            ]
          },
          "metadata": {},
          "execution_count": 83
        }
      ]
    }
  ],
  "metadata": {
    "kernelspec": {
      "display_name": "Python 3 (ipykernel)",
      "language": "python",
      "name": "python3"
    },
    "language_info": {
      "codemirror_mode": {
        "name": "ipython",
        "version": 3
      },
      "file_extension": ".py",
      "mimetype": "text/x-python",
      "name": "python",
      "nbconvert_exporter": "python",
      "pygments_lexer": "ipython3",
      "version": "3.8.8"
    },
    "colab": {
      "name": "User_interface_notebook_integerprogramming_colab.ipynb",
      "provenance": [],
      "collapsed_sections": []
    }
  },
  "nbformat": 4,
  "nbformat_minor": 5
}
