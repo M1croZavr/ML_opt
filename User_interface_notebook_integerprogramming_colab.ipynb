{
  "cells": [
    {
      "cell_type": "markdown",
      "metadata": {
        "id": "view-in-github",
        "colab_type": "text"
      },
      "source": [
        "<a href=\"https://colab.research.google.com/github/M1croZavr/ML_opt/blob/development/User_interface_notebook_integerprogramming_colab.ipynb\" target=\"_parent\"><img src=\"https://colab.research.google.com/assets/colab-badge.svg\" alt=\"Open In Colab\"/></a>"
      ]
    },
    {
      "cell_type": "code",
      "execution_count": 1,
      "metadata": {
        "colab": {
          "base_uri": "https://localhost:8080/"
        },
        "id": "RnqHRrqoSmtb",
        "outputId": "ee3d1cc8-522b-47b8-c9a0-b10cb588b772"
      },
      "outputs": [
        {
          "output_type": "stream",
          "name": "stdout",
          "text": [
            "Collecting mloptima\n",
            "  Downloading mloptima-0.0.1.tar.gz (27 kB)\n",
            "  Preparing metadata (setup.py) ... \u001b[?25l\u001b[?25hdone\n",
            "Requirement already satisfied: numpy in /usr/local/lib/python3.10/dist-packages (from mloptima) (1.23.5)\n",
            "Requirement already satisfied: scikit-learn in /usr/local/lib/python3.10/dist-packages (from mloptima) (1.2.2)\n",
            "Requirement already satisfied: matplotlib in /usr/local/lib/python3.10/dist-packages (from mloptima) (3.7.1)\n",
            "Requirement already satisfied: sympy in /usr/local/lib/python3.10/dist-packages (from mloptima) (1.12)\n",
            "Requirement already satisfied: pandas in /usr/local/lib/python3.10/dist-packages (from mloptima) (1.5.3)\n",
            "Requirement already satisfied: scipy in /usr/local/lib/python3.10/dist-packages (from mloptima) (1.11.4)\n",
            "Requirement already satisfied: contourpy>=1.0.1 in /usr/local/lib/python3.10/dist-packages (from matplotlib->mloptima) (1.2.0)\n",
            "Requirement already satisfied: cycler>=0.10 in /usr/local/lib/python3.10/dist-packages (from matplotlib->mloptima) (0.12.1)\n",
            "Requirement already satisfied: fonttools>=4.22.0 in /usr/local/lib/python3.10/dist-packages (from matplotlib->mloptima) (4.45.1)\n",
            "Requirement already satisfied: kiwisolver>=1.0.1 in /usr/local/lib/python3.10/dist-packages (from matplotlib->mloptima) (1.4.5)\n",
            "Requirement already satisfied: packaging>=20.0 in /usr/local/lib/python3.10/dist-packages (from matplotlib->mloptima) (23.2)\n",
            "Requirement already satisfied: pillow>=6.2.0 in /usr/local/lib/python3.10/dist-packages (from matplotlib->mloptima) (9.4.0)\n",
            "Requirement already satisfied: pyparsing>=2.3.1 in /usr/local/lib/python3.10/dist-packages (from matplotlib->mloptima) (3.1.1)\n",
            "Requirement already satisfied: python-dateutil>=2.7 in /usr/local/lib/python3.10/dist-packages (from matplotlib->mloptima) (2.8.2)\n",
            "Requirement already satisfied: pytz>=2020.1 in /usr/local/lib/python3.10/dist-packages (from pandas->mloptima) (2023.3.post1)\n",
            "Requirement already satisfied: joblib>=1.1.1 in /usr/local/lib/python3.10/dist-packages (from scikit-learn->mloptima) (1.3.2)\n",
            "Requirement already satisfied: threadpoolctl>=2.0.0 in /usr/local/lib/python3.10/dist-packages (from scikit-learn->mloptima) (3.2.0)\n",
            "Requirement already satisfied: mpmath>=0.19 in /usr/local/lib/python3.10/dist-packages (from sympy->mloptima) (1.3.0)\n",
            "Requirement already satisfied: six>=1.5 in /usr/local/lib/python3.10/dist-packages (from python-dateutil>=2.7->matplotlib->mloptima) (1.16.0)\n",
            "Building wheels for collected packages: mloptima\n",
            "  Building wheel for mloptima (setup.py) ... \u001b[?25l\u001b[?25hdone\n",
            "  Created wheel for mloptima: filename=mloptima-0.0.1-py3-none-any.whl size=33743 sha256=47d9ad9585950cf8f96e6f2de621bddf5fc6644157fb24d14eb2dc0f1e59bd7f\n",
            "  Stored in directory: /root/.cache/pip/wheels/a1/99/19/347e881e4c186860f9f1c4e8ffc0f8c490f773b0a0ac91b959\n",
            "Successfully built mloptima\n",
            "Installing collected packages: mloptima\n",
            "Successfully installed mloptima-0.0.1\n"
          ]
        }
      ],
      "source": [
        "!pip install mloptima"
      ]
    },
    {
      "cell_type": "code",
      "execution_count": 2,
      "metadata": {
        "colab": {
          "base_uri": "https://localhost:8080/"
        },
        "id": "Mg-MexRfSmte",
        "outputId": "3ce1a530-18a5-4a6d-e1a1-0183d9dd904f"
      },
      "outputs": [
        {
          "output_type": "stream",
          "name": "stdout",
          "text": [
            "Collecting scikit-learn==1.1.1\n",
            "  Downloading scikit_learn-1.1.1-cp310-cp310-manylinux_2_17_x86_64.manylinux2014_x86_64.whl (30.4 MB)\n",
            "\u001b[2K     \u001b[90m━━━━━━━━━━━━━━━━━━━━━━━━━━━━━━━━━━━━━━━━\u001b[0m \u001b[32m30.4/30.4 MB\u001b[0m \u001b[31m37.2 MB/s\u001b[0m eta \u001b[36m0:00:00\u001b[0m\n",
            "\u001b[?25hRequirement already satisfied: numpy>=1.17.3 in /usr/local/lib/python3.10/dist-packages (from scikit-learn==1.1.1) (1.23.5)\n",
            "Requirement already satisfied: scipy>=1.3.2 in /usr/local/lib/python3.10/dist-packages (from scikit-learn==1.1.1) (1.11.4)\n",
            "Requirement already satisfied: joblib>=1.0.0 in /usr/local/lib/python3.10/dist-packages (from scikit-learn==1.1.1) (1.3.2)\n",
            "Requirement already satisfied: threadpoolctl>=2.0.0 in /usr/local/lib/python3.10/dist-packages (from scikit-learn==1.1.1) (3.2.0)\n",
            "Installing collected packages: scikit-learn\n",
            "  Attempting uninstall: scikit-learn\n",
            "    Found existing installation: scikit-learn 1.2.2\n",
            "    Uninstalling scikit-learn-1.2.2:\n",
            "      Successfully uninstalled scikit-learn-1.2.2\n",
            "\u001b[31mERROR: pip's dependency resolver does not currently take into account all the packages that are installed. This behaviour is the source of the following dependency conflicts.\n",
            "bigframes 0.15.0 requires scikit-learn>=1.2.2, but you have scikit-learn 1.1.1 which is incompatible.\u001b[0m\u001b[31m\n",
            "\u001b[0mSuccessfully installed scikit-learn-1.1.1\n"
          ]
        }
      ],
      "source": [
        "!pip install scikit-learn==1.1.1"
      ]
    },
    {
      "cell_type": "code",
      "execution_count": 3,
      "metadata": {
        "id": "irIQS9BNSmte"
      },
      "outputs": [],
      "source": [
        "import coreml\n",
        "import numpy as np"
      ]
    },
    {
      "cell_type": "code",
      "execution_count": 4,
      "metadata": {
        "id": "ewjh3X-ZSmte"
      },
      "outputs": [],
      "source": [
        "from coreml.integerprogramming import optimize"
      ]
    },
    {
      "cell_type": "code",
      "execution_count": null,
      "metadata": {
        "id": "bpQJszi2Smtf"
      },
      "outputs": [],
      "source": [
        "# Метод Гомори\n",
        "\n",
        "def inputData():\n",
        "  nX=int(input('Enter number of variables'))\n",
        "  nY=int(input('Enter number of restrictions'))\n",
        "  A = []\n",
        "  for i in range(nY):\n",
        "    z=[int(j) for j in np.zeros(nY)]\n",
        "    z[i]=1\n",
        "    A.append(list(map(int, input('Enter coefficients of constraint variables by lines').split()))+z)\n",
        "  A=np.array(A)\n",
        "  B = np.array([int(i) for i in input('Enter free members of restrictions:').split()])\n",
        "  C = np.array([int(i) for i in input('Enter coefficients of objective function (Without multiplying by -1):').split()]+[int(i) for i in np.zeros(nY)])\n",
        "  basis = np.array([i for i in input('Enter basis variables names in right order:').split()])\n",
        "  variables = np.array([i for i in input('Enter all variables names in right order:').split()])\n",
        "  target_vars = set(np.array([i for i in input('Enter Names of needed variables:').split()]))\n",
        "  extrema =str(input('Which extrema to find?(\"max\";\"min\"):'))\n",
        "  return A,B,C,basis,variables,target_vars,extrema"
      ]
    },
    {
      "cell_type": "code",
      "execution_count": null,
      "metadata": {
        "id": "wA4ImmBDSmth",
        "outputId": "b528141b-c107-4857-dd20-176b1657af24"
      },
      "outputs": [
        {
          "name": "stdout",
          "output_type": "stream",
          "text": [
            "Enter number of variables3\n",
            "Enter number of restrictions3\n",
            "Enter coefficients of constraint variables by lines1 2 3\n",
            "Enter coefficients of constraint variables by lines4 3 2\n",
            "Enter coefficients of constraint variables by lines3 1 1\n",
            "Enter free members of restrictions:35 45 40\n",
            "Enter coefficients of objective function (Without multiplying by -1):4 5 6\n",
            "Enter basis variables names in right order:y1 y2 y3\n",
            "Enter all variables names in right order:x1 x2 x3 y1 y2 y3\n",
            "Enter Names of needed variables:x1 x2 x3\n",
            "Which extrema to find?(\"max\";\"min\"):max\n",
            "[[1 2 3 1 0 0]\n",
            " [4 3 2 0 1 0]\n",
            " [3 1 1 0 0 1]] [35 45 40] [4 5 6 0 0 0] ['y1' 'y2' 'y3'] ['x1' 'x2' 'x3' 'y1' 'y2' 'y3'] {'x2', 'x3', 'x1'} max\n"
          ]
        }
      ],
      "source": [
        "A,B,C,basis,variables,target_vars,extrema=inputData()\n",
        "print(A,B,C,basis,variables,target_vars,extrema)"
      ]
    },
    {
      "cell_type": "code",
      "execution_count": null,
      "metadata": {
        "id": "xNuBzuKKSmth",
        "outputId": "79d08400-0b74-44cb-a983-bd4550f07dc9"
      },
      "outputs": [
        {
          "name": "stdout",
          "output_type": "stream",
          "text": [
            "All coefficients in string Z are >= 0\n",
            "[[ 0.   0.5  1.   0.4 -0.1  0.   9.5]\n",
            " [ 1.   0.5  0.  -0.2  0.3  0.   6.5]\n",
            " [ 0.  -1.   0.   0.2 -0.8  1.  11. ]\n",
            " [ 0.   0.   0.   1.6  0.6  0.  83. ]] ['x3' 'x1' 'y3']\n",
            "F(X) = 83.0, X: x3=9.0  x1=6.0  x2=1.0\n"
          ]
        },
        {
          "data": {
            "text/plain": [
              "(array([[  0. ,   0. ,   1. ,   0. ,  -1. ,   0. ,   1. ,   9. ],\n",
              "        [  1. ,   0. ,   0. ,  -0.6,  -0.6,   0. ,   1. ,   6. ],\n",
              "        [  0. ,   0. ,   0. ,   1. ,   1. ,   1. ,  -2. ,  12. ],\n",
              "        [  0. ,   1. ,   0. ,   0.8,   1.8,   0. ,  -2. ,   1. ],\n",
              "        [  0. ,   0. ,   0. ,  -1.6,  -0.6,   0. ,  -0. , -83. ]]),\n",
              " array(['x3', 'x1', 'y3', 'x2'], dtype='<U2'),\n",
              " array(['x1', 'x2', 'x3', 'y1', 'y2', 'y3', 't1'], dtype='<U2'))"
            ]
          },
          "execution_count": 11,
          "metadata": {},
          "output_type": "execute_result"
        }
      ],
      "source": [
        "optimize.gomori_method(A, B, C, basis, variables, target_vars=target_vars,extrema=extrema)"
      ]
    },
    {
      "cell_type": "code",
      "execution_count": null,
      "metadata": {
        "id": "Bewyl16FSmth"
      },
      "outputs": [],
      "source": []
    }
  ],
  "metadata": {
    "kernelspec": {
      "display_name": "Python 3",
      "language": "python",
      "name": "python3"
    },
    "language_info": {
      "codemirror_mode": {
        "name": "ipython",
        "version": 3
      },
      "file_extension": ".py",
      "mimetype": "text/x-python",
      "name": "python",
      "nbconvert_exporter": "python",
      "pygments_lexer": "ipython3",
      "version": "3.8.3"
    },
    "colab": {
      "provenance": [],
      "include_colab_link": true
    }
  },
  "nbformat": 4,
  "nbformat_minor": 0
}